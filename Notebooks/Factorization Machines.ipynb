{
 "cells": [
  {
   "cell_type": "markdown",
   "metadata": {},
   "source": [
    "\n"
   ]
  },
  {
   "cell_type": "markdown",
   "metadata": {},
   "source": [
    "> With Factorization Machines, multi-dimensional, feature-rich databases can be used and meta data can be used for finding out useful features as well.\n",
    "\n",
    ">Our dataset is fairly sparse as even bigger datasets have been reduced so as to make them easier to work with."
   ]
  },
  {
   "cell_type": "markdown",
   "metadata": {},
   "source": [
    "## Collaborative Filtering for generating User and Item Features using Matrix Decomposition\n"
   ]
  },
  {
   "cell_type": "markdown",
   "metadata": {},
   "source": [
    "     "
   ]
  },
  {
   "cell_type": "code",
   "execution_count": 1,
   "metadata": {
    "collapsed": true
   },
   "outputs": [],
   "source": [
    "import numpy as np\n",
    "import pandas as pd\n",
    "import tensorflow as tf\n",
    "import matplotlib.pyplot as plt\n",
    "from IPython.display import display, HTML"
   ]
  },
  {
   "cell_type": "markdown",
   "metadata": {},
   "source": [
    "### Data\n",
    "\n",
    "[MovieLens 100K Movie Recommendation Data](https://grouplens.org/datasets/movielens/100k/)\n",
    "\n",
    "\n",
    "### Second Order Factorization Model\n",
    "\n",
    "$$ \\widehat{y}\\left ( x \\right ) = w_{0}  + \\sum_{i=1}^{n}w_{i}x_{i} + \\sum_{i=1}^{n}\\sum_{j=i+1}^{n}<v_{i}v_{j}>x_{i}x_{j} $$\n",
    "\n",
    "\n",
    ">v : k dimensional latent vectors associated with each variable\n",
    "\n",
    ">w0 : global bias\n",
    "\n",
    ">wi : user-item specific bias\n",
    "\n",
    ">xi xj : user-item interaction"
   ]
  },
  {
   "cell_type": "markdown",
   "metadata": {},
   "source": [
    "#### Ratings\n",
    "\n",
    "$$ \\hat{r} = \\vec{u}^t \\vec{p} $$\n",
    "\n",
    ">The ratings in this model have been taken as the inner product of the two vectors. The User Vector 'u' and the Vector with the Latent Values.\n",
    "\n"
   ]
  },
  {
   "cell_type": "markdown",
   "metadata": {},
   "source": [
    "### Get the Dataset"
   ]
  },
  {
   "cell_type": "code",
   "execution_count": 2,
   "metadata": {
    "collapsed": false
   },
   "outputs": [],
   "source": [
    "MovieLensData = pd.read_csv(\"../Datasets/MovieLens/ml-100k/ml-100k/u.data\", delimiter=\"\\t\",names = [\"user\",\"item\",\"rate\",\"time\"])"
   ]
  },
  {
   "cell_type": "markdown",
   "metadata": {},
   "source": [
    ">Here we are using the GoupLens MovieLens Dataset which contains data on different users, and different movies and the ratings each of the users have given to individual movies. "
   ]
  },
  {
   "cell_type": "markdown",
   "metadata": {},
   "source": [
    "### Instantiate Session for running the TensorFlow Graph"
   ]
  },
  {
   "cell_type": "code",
   "execution_count": 3,
   "metadata": {
    "collapsed": false
   },
   "outputs": [
    {
     "name": "stdout",
     "output_type": "stream",
     "text": [
      "WARNING:tensorflow:From <ipython-input-3-c3c256f2e5cc>:2 in <module>.: initialize_all_variables (from tensorflow.python.ops.variables) is deprecated and will be removed after 2017-03-02.\n",
      "Instructions for updating:\n",
      "Use `tf.global_variables_initializer` instead.\n"
     ]
    }
   ],
   "source": [
    "sess = tf.Session()\n",
    "init = tf.initialize_all_variables()"
   ]
  },
  {
   "cell_type": "markdown",
   "metadata": {},
   "source": [
    "### Create Sample for Training the Model"
   ]
  },
  {
   "cell_type": "markdown",
   "metadata": {},
   "source": [
    "> Here we are considering the training size as 70% of the datasets on top of which the predictions would take place.\n",
    "\n",
    "> We are taking 70% of the values withouit replacement from the dataset at random."
   ]
  },
  {
   "cell_type": "code",
   "execution_count": 4,
   "metadata": {
    "collapsed": false
   },
   "outputs": [],
   "source": [
    "train_size = np.random.rand(len(MovieLensData)) < 0.7\n",
    "_train = MovieLensData[train_size]"
   ]
  },
  {
   "cell_type": "markdown",
   "metadata": {},
   "source": [
    "### Create lists for the User Ids and Item Ids and the respective ratings attributed"
   ]
  },
  {
   "cell_type": "code",
   "execution_count": 5,
   "metadata": {
    "collapsed": true
   },
   "outputs": [],
   "source": [
    "user_indecies = [x-1 for x in _train.user.values]\n",
    "item_indecies = [x-1 for x in _train.item.values]\n",
    "rates = _train.rate.values"
   ]
  },
  {
   "cell_type": "markdown",
   "metadata": {},
   "source": [
    "### Defining the maximum nuber of features to be extracted"
   ]
  },
  {
   "cell_type": "code",
   "execution_count": 6,
   "metadata": {
    "collapsed": false
   },
   "outputs": [],
   "source": [
    "feature_len = 10"
   ]
  },
  {
   "cell_type": "markdown",
   "metadata": {},
   "source": [
    "### Defining New User and Item Matrices with their vectors as the feature vectors.\n",
    "\n",
    ">In the case of the User Matrix we have the Feature Column.\n",
    "\n",
    ">In the case of the Item Matrix we have the Feature Row.\n",
    "\n",
    ">##### tf.truncated_normal(shape, mean=0.0, stddev=1.0, dtype=tf.float32, seed=None, name=None)\n",
    "\n",
    ">Outputs random values from a truncated normal distribution.\n",
    "\n",
    ">The truncated normal distribution is the probability distribution of a normally distributed random variable whose value is either bounded below or above (or both). "
   ]
  },
  {
   "cell_type": "code",
   "execution_count": 7,
   "metadata": {
    "collapsed": false
   },
   "outputs": [],
   "source": [
    "U = tf.Variable(initial_value=tf.truncated_normal([943,feature_len]), name='user')\n",
    "P = tf.Variable(initial_value=tf.truncated_normal([feature_len,1682]), name='item')"
   ]
  },
  {
   "cell_type": "markdown",
   "metadata": {},
   "source": [
    "### Defining the result \n",
    ">This yields us the ratings obtained after defining the features."
   ]
  },
  {
   "cell_type": "code",
   "execution_count": 8,
   "metadata": {
    "collapsed": true
   },
   "outputs": [],
   "source": [
    "result = tf.matmul(U, P)"
   ]
  },
  {
   "cell_type": "markdown",
   "metadata": {},
   "source": [
    "### Flattening the \"result\" Matrix\n",
    ">##### Flattening Example\n",
    "\n",
    ">tensor 't' [[[1, 1, 1], [2, 2, 2]], [[3, 3, 3],[4, 4, 4]],[[5, 5, 5],[6, 6, 6]]]\n",
    "\n",
    ">tensor 't' has shape [3, 2, 3]\n",
    "\n",
    ">pass '[-1]' to flatten 't'\n",
    "\n",
    ">reshape(t, [-1]) ==> [1, 1, 1, 2, 2, 2, 3, 3, 3, 4, 4, 4, 5, 5, 5, 6, 6, 6]\n",
    "\n",
    "### tf.gather(params, indices, validate_indices=None, name=None)\n",
    ">Gather slices from params according to indices\n",
    "\n",
    ">indices must be an integer tensor of any dimension (usually 0-D or 1-D). Produces an output tensor with shape indices.shape + params.shape[1:]"
   ]
  },
  {
   "cell_type": "code",
   "execution_count": 9,
   "metadata": {
    "collapsed": true
   },
   "outputs": [],
   "source": [
    "result_flatten = tf.reshape(result, [-1])\n",
    "\n",
    "R = tf.gather(result_flatten, user_indecies * tf.shape(result)[1] + item_indecies, name='extracting_user_rate')"
   ]
  },
  {
   "cell_type": "markdown",
   "metadata": {},
   "source": [
    "## Regularization and the Loss Function\n",
    "\n",
    "$$ min\\sum_{i=1}^{n}V(f(\\hat{x}_i)f(\\hat{y}_i)) + \\lambda P(f) $$\n",
    "\n",
    "for a loss function $$ {\\displaystyle V} $$ that describes the cost of predicting $$ {\\displaystyle f(x)} \n",
    "$$ when the label is $$ {\\displaystyle y} $$, such as the square loss or hinge loss, and for the term $$ {\\displaystyle \\lambda } $$ which controls the importance of the regularization term. $$ {\\displaystyle P(f)} $$ is typically a penalty on the complexity of $$ {\\displaystyle f} $$, such as restrictions for smoothness or bounds on the vector space norm.\n",
    "\n",
    "\n",
    "### Difference between the Random Values and the Actual Values"
   ]
  },
  {
   "cell_type": "code",
   "execution_count": 10,
   "metadata": {
    "collapsed": false
   },
   "outputs": [],
   "source": [
    "diff_op = tf.sub(R, rates, name='trainig_diff')\n",
    "diff_op_squared = tf.abs(tf.square(diff_op, name=\"squared_difference\"))"
   ]
  },
  {
   "cell_type": "markdown",
   "metadata": {},
   "source": [
    "### Computing Base Cost\n",
    "\n",
    "$$  min\\sum_{i=1}^{n}V(f(R)f(rates)) $$"
   ]
  },
  {
   "cell_type": "code",
   "execution_count": 11,
   "metadata": {
    "collapsed": true
   },
   "outputs": [],
   "source": [
    "base_cost = tf.reduce_sum(diff_op_squared, name=\"sum_squared_error\")"
   ]
  },
  {
   "cell_type": "markdown",
   "metadata": {},
   "source": [
    "### Computing Norm and defining lambda\n",
    "\n",
    "Norm : $$  f $$ \n",
    "Lambda: $$ \\lambda$$\n"
   ]
  },
  {
   "cell_type": "code",
   "execution_count": 12,
   "metadata": {
    "collapsed": true
   },
   "outputs": [],
   "source": [
    "lda = tf.constant(.001, name='lambda') #lambda\n",
    "norm_sums = tf.add(\n",
    "    tf.reduce_sum(tf.abs(U, name='user_abs'), name='user_norm'), \n",
    "    tf.reduce_sum(tf.abs(P, name='item_abs'), name='item_norm')) # sum of the U and P Matrices taken as norms"
   ]
  },
  {
   "cell_type": "markdown",
   "metadata": {},
   "source": [
    "### Computing Regularization Function \n",
    "\n",
    "$$ \\lambda P(f) $$"
   ]
  },
  {
   "cell_type": "code",
   "execution_count": 13,
   "metadata": {
    "collapsed": true
   },
   "outputs": [],
   "source": [
    "regularizer = tf.mul(norm_sums, lda, 'regularizer') #nultiply the P(f) and lambda"
   ]
  },
  {
   "cell_type": "markdown",
   "metadata": {},
   "source": [
    "### Obtaining the Final Loss Function\n",
    "\n",
    "$$\\sum_{i=1}^{n}V(R)f(rates) + \\lambda P(f)$$"
   ]
  },
  {
   "cell_type": "code",
   "execution_count": 14,
   "metadata": {
    "collapsed": true
   },
   "outputs": [],
   "source": [
    "cost = tf.add(base_cost, regularizer)"
   ]
  },
  {
   "cell_type": "markdown",
   "metadata": {},
   "source": [
    "## Learning/Training Model\n",
    "### Defining the rate at which the model learns\n",
    "\n",
    "\n",
    ">Here, we can see that the exponential decay function is used for the learning rate as we don't want the model to keep learning continuously.\n",
    "\n",
    ">We have tuned the decay model such that the model decays for the next 10000 steps with a decay rate of 0.96 from the base learning rate of 0.001 "
   ]
  },
  {
   "cell_type": "code",
   "execution_count": 15,
   "metadata": {
    "collapsed": true
   },
   "outputs": [],
   "source": [
    "lr = tf.constant(.001, name='learning_rate')\n",
    "global_step = tf.Variable(0, trainable=False)\n",
    "learning_rate = tf.train.exponential_decay(lr, global_step, 10000, 0.96, staircase=True)"
   ]
  },
  {
   "cell_type": "markdown",
   "metadata": {},
   "source": [
    "### Defining the Optimization Method for the Learning Model\n",
    "\n",
    ">##### Gradient Descent Optimizer\n",
    "\n",
    ">Gradient descent is an optimization algorithm used to find the values of parameters (coefficients) of a function (f) that minimizes a cost function (cost).\n",
    "\n",
    ">It is best used when the parameters cannot be calculated analytically (e.g. using linear algebra) and must be searched for by an optimization algorithm."
   ]
  },
  {
   "cell_type": "code",
   "execution_count": 16,
   "metadata": {
    "collapsed": true
   },
   "outputs": [],
   "source": [
    "optimizer = tf.train.GradientDescentOptimizer(learning_rate)\n",
    "training_step = optimizer.minimize(cost, global_step=global_step)"
   ]
  },
  {
   "cell_type": "markdown",
   "metadata": {},
   "source": [
    "### Final Optimized Cost Function\n",
    "\n",
    "$$ min\\sum_{i=1}^{n}V(f(R)f(rates)) + \\lambda P(f) $$\n",
    "\n",
    "After going through all the above steps we have arrived at the preferred equation which would be an instance of training for our Learning Model."
   ]
  },
  {
   "cell_type": "markdown",
   "metadata": {},
   "source": [
    "### Initializing all the Variables\n",
    "\n",
    ">In Tensorflow none of the objects or variables output anyting till they have been initialized. After they are initialized, only then are they stored as TF operations and only then after that they can be evaluated within the session."
   ]
  },
  {
   "cell_type": "code",
   "execution_count": 17,
   "metadata": {
    "collapsed": false
   },
   "outputs": [
    {
     "name": "stdout",
     "output_type": "stream",
     "text": [
      "WARNING:tensorflow:From <ipython-input-17-8b3cf5fafc87>:1 in <module>.: initialize_all_variables (from tensorflow.python.ops.variables) is deprecated and will be removed after 2017-03-02.\n",
      "Instructions for updating:\n",
      "Use `tf.global_variables_initializer` instead.\n"
     ]
    }
   ],
   "source": [
    "init = tf.initialize_all_variables()\n",
    "sess.run(init)"
   ]
  },
  {
   "cell_type": "markdown",
   "metadata": {},
   "source": [
    "### Displaying Matrices"
   ]
  },
  {
   "cell_type": "markdown",
   "metadata": {},
   "source": [
    "> Here we can see that the U and P, the User and Item Matrices respectively, which have been formed through Matrix Decomposition have inner vectors which are of size 10.\n",
    "\n",
    "> These 10 vectors are the 10 feature vectors which define 10 quantified features for each individual Item in the Item Matrix and each individual User in the User Matrix."
   ]
  },
  {
   "cell_type": "code",
   "execution_count": 18,
   "metadata": {
    "collapsed": false,
    "scrolled": false
   },
   "outputs": [
    {
     "data": {
      "text/plain": [
       "array([[-0.81220341,  0.37058678,  1.24118137, ...,  1.46901143,\n",
       "        -0.70671052, -1.8305186 ],\n",
       "       [ 0.02922708, -0.72013128, -0.00801589, ...,  1.15356469,\n",
       "         1.68524218,  1.85763836],\n",
       "       [ 0.22098094,  0.15062393, -1.60873449, ..., -1.59152067,\n",
       "         1.54848826, -1.01640308],\n",
       "       ..., \n",
       "       [ 0.00941658,  1.20050681,  1.68613267, ...,  1.13435674,\n",
       "        -0.15135647,  0.53235   ],\n",
       "       [ 0.43751195, -1.15487123, -1.51693213, ..., -0.08659396,\n",
       "        -0.19608822, -0.72341734],\n",
       "       [ 0.83507311,  0.51638842,  0.18813764, ...,  1.27671206,\n",
       "        -0.40238461, -1.47999048]], dtype=float32)"
      ]
     },
     "metadata": {},
     "output_type": "display_data"
    },
    {
     "data": {
      "text/plain": [
       "array([943,  10])"
      ]
     },
     "metadata": {},
     "output_type": "display_data"
    },
    {
     "data": {
      "text/plain": [
       "array([[ 1.90545261,  1.28037536,  0.21271086, ..., -1.24561608,\n",
       "         1.14141893,  1.05037296],\n",
       "       [-0.95732647, -0.62929004, -0.41205209, ..., -1.42195582,\n",
       "         0.09077808, -1.70308053],\n",
       "       [ 0.50202435,  0.11062878, -0.92459714, ...,  1.43245995,\n",
       "         0.12757578, -1.66804886],\n",
       "       ..., \n",
       "       [-0.77566946, -0.36765468, -0.61928439, ...,  1.06997466,\n",
       "        -1.13820994,  0.3719511 ],\n",
       "       [-1.70025241, -0.14404662, -0.31020194, ...,  0.73789245,\n",
       "         0.00491412, -0.76003218],\n",
       "       [-0.40508029, -0.03904512, -0.55874455, ...,  0.03536268,\n",
       "         1.63393378, -1.60653794]], dtype=float32)"
      ]
     },
     "metadata": {},
     "output_type": "display_data"
    },
    {
     "data": {
      "text/plain": [
       "array([  10, 1682])"
      ]
     },
     "metadata": {},
     "output_type": "display_data"
    },
    {
     "data": {
      "text/plain": [
       "array([[ -2.14488888e+00,  -1.94769800e+00,  -3.13238287e+00, ...,\n",
       "          3.14458203e+00,  -6.87793684e+00,   8.29592943e-01],\n",
       "       [ -2.43351912e+00,  -2.89005995e-01,  -9.60190594e-01, ...,\n",
       "          3.27938843e+00,   2.72818971e+00,  -3.14032292e+00],\n",
       "       [  3.78467619e-01,  -6.72436833e-01,   2.20943713e+00, ...,\n",
       "         -4.12038136e+00,  -7.70708680e-01,   3.06850100e+00],\n",
       "       ..., \n",
       "       [ -2.67243838e+00,   6.11859143e-01,  -2.02758646e+00, ...,\n",
       "          2.74572253e+00,   1.54658270e+00,  -5.83679104e+00],\n",
       "       [  3.46367091e-01,   3.25373697e+00,   3.17765307e+00, ...,\n",
       "          2.07420625e-03,  -3.71386826e-01,   6.89496231e+00],\n",
       "       [  2.64637637e+00,   1.25727475e+00,  -4.24946904e-01, ...,\n",
       "         -5.12097776e-01,  -2.46775651e+00,   2.85939717e+00]], dtype=float32)"
      ]
     },
     "metadata": {},
     "output_type": "display_data"
    },
    {
     "data": {
      "text/plain": [
       "array([ 943, 1682])"
      ]
     },
     "metadata": {},
     "output_type": "display_data"
    }
   ],
   "source": [
    "display(sess.run(U))\n",
    "display(sess.run(tf.shape(U)))\n",
    "\n",
    "display(sess.run(P))\n",
    "display(sess.run(tf.shape(P)))\n",
    "\n",
    "display(sess.run(result))\n",
    "display(sess.run(tf.shape(result)))"
   ]
  },
  {
   "cell_type": "markdown",
   "metadata": {},
   "source": [
    "### Running the Training Model\n",
    "\n"
   ]
  },
  {
   "cell_type": "code",
   "execution_count": 19,
   "metadata": {
    "collapsed": false,
    "scrolled": true
   },
   "outputs": [
    {
     "name": "stdout",
     "output_type": "stream",
     "text": [
      "rating for user 253 for item 465 is 5 and our prediction is: 1.91077\n",
      "22.8756\n",
      "rating for user 253 for item 465 is 5 and our prediction is: 1.81087\n",
      "18.146\n",
      "rating for user 253 for item 465 is 5 and our prediction is: 2.13749\n",
      "15.0613\n",
      "rating for user 253 for item 465 is 5 and our prediction is: 3.99948\n",
      "6.01734\n",
      "rating for user 253 for item 465 is 5 and our prediction is: 4.13264\n",
      "2.40418\n",
      "rating for user 253 for item 465 is 5 and our prediction is: 3.69467\n",
      "2.73345\n",
      "rating for user 253 for item 465 is 5 and our prediction is: 2.88029\n",
      "4.24694\n",
      "rating for user 253 for item 465 is 5 and our prediction is: 3.56331\n",
      "3.63945\n",
      "rating for user 253 for item 465 is 5 and our prediction is: 3.64076\n",
      "3.27738\n",
      "rating for user 253 for item 465 is 5 and our prediction is: 3.01023\n",
      "5.03861\n",
      "rating for user 253 for item 465 is 5 and our prediction is: 3.02325\n",
      "4.13409\n",
      "rating for user 253 for item 465 is 5 and our prediction is: 3.58138\n",
      "2.33654\n",
      "rating for user 253 for item 465 is 5 and our prediction is: 3.62383\n",
      "2.26133\n",
      "rating for user 253 for item 465 is 5 and our prediction is: 3.13254\n",
      "3.20516\n",
      "rating for user 253 for item 465 is 5 and our prediction is: 3.13243\n",
      "2.98087\n",
      "rating for user 253 for item 465 is 5 and our prediction is: 3.595\n",
      "1.89278\n",
      "rating for user 253 for item 465 is 5 and our prediction is: 3.61214\n",
      "1.80897\n",
      "rating for user 253 for item 465 is 5 and our prediction is: 3.21723\n",
      "2.51129\n",
      "rating for user 253 for item 465 is 5 and our prediction is: 3.27772\n",
      "2.39809\n",
      "rating for user 253 for item 465 is 5 and our prediction is: 3.76685\n",
      "1.61712\n",
      "rating for user 253 for item 465 is 5 and our prediction is: 3.84424\n",
      "1.56853\n",
      "rating for user 253 for item 465 is 5 and our prediction is: 3.52299\n",
      "2.13893\n",
      "rating for user 253 for item 465 is 5 and our prediction is: 3.60563\n",
      "2.07221\n",
      "rating for user 253 for item 465 is 5 and our prediction is: 4.07229\n",
      "1.45307\n",
      "rating for user 253 for item 465 is 5 and our prediction is: 4.13515\n",
      "1.4223\n",
      "rating for user 253 for item 465 is 5 and our prediction is: 3.80731\n",
      "1.91189\n",
      "rating for user 253 for item 465 is 5 and our prediction is: 3.85903\n",
      "1.86867\n",
      "rating for user 253 for item 465 is 5 and our prediction is: 4.28169\n",
      "1.34621\n",
      "rating for user 253 for item 465 is 5 and our prediction is: 4.32066\n",
      "1.3251\n",
      "rating for user 253 for item 465 is 5 and our prediction is: 3.98504\n",
      "1.76065\n",
      "rating for user 253 for item 465 is 5 and our prediction is: 4.02104\n",
      "1.73036\n",
      "rating for user 253 for item 465 is 5 and our prediction is: 4.42251\n",
      "1.27104\n",
      "rating for user 253 for item 465 is 5 and our prediction is: 4.45319\n",
      "1.25555\n",
      "rating for user 253 for item 465 is 5 and our prediction is: 4.11912\n",
      "1.65218\n",
      "rating for user 253 for item 465 is 5 and our prediction is: 4.14878\n",
      "1.62962\n",
      "rating for user 253 for item 465 is 5 and our prediction is: 4.53625\n",
      "1.21496\n",
      "rating for user 253 for item 465 is 5 and our prediction is: 4.56022\n",
      "1.20311\n",
      "rating for user 253 for item 465 is 5 and our prediction is: 4.22636\n",
      "1.57025\n",
      "rating for user 253 for item 465 is 5 and our prediction is: 4.24789\n",
      "1.55284\n",
      "rating for user 253 for item 465 is 5 and our prediction is: 4.61876\n",
      "1.17168\n",
      "rating for user 253 for item 465 is 5 and our prediction is: 4.63401\n",
      "1.1624\n",
      "rating for user 253 for item 465 is 5 and our prediction is: 4.30027\n",
      "1.50653\n",
      "rating for user 253 for item 465 is 5 and our prediction is: 4.31445\n",
      "1.4928\n",
      "rating for user 253 for item 465 is 5 and our prediction is: 4.67033\n",
      "1.13753\n",
      "rating for user 253 for item 465 is 5 and our prediction is: 4.68024\n",
      "1.13009\n",
      "rating for user 253 for item 465 is 5 and our prediction is: 4.35072\n",
      "1.45574\n",
      "rating for user 253 for item 465 is 5 and our prediction is: 4.36131\n",
      "1.44456\n",
      "rating for user 253 for item 465 is 5 and our prediction is: 4.70614\n",
      "1.1098\n",
      "rating for user 253 for item 465 is 5 and our prediction is: 4.71381\n",
      "1.10361\n",
      "rating for user 253 for item 465 is 5 and our prediction is: 4.38967\n",
      "1.41384\n",
      "rating for user 253 for item 465 is 5 and our prediction is: 4.39812\n",
      "1.40442\n",
      "rating for user 253 for item 465 is 5 and our prediction is: 4.73458\n",
      "1.08648\n",
      "rating for user 253 for item 465 is 5 and our prediction is: 4.74092\n",
      "1.0812\n",
      "rating for user 253 for item 465 is 5 and our prediction is: 4.42108\n",
      "1.3783\n",
      "rating for user 253 for item 465 is 5 and our prediction is: 4.42816\n",
      "1.37025\n",
      "rating for user 253 for item 465 is 5 and our prediction is: 4.7591\n",
      "1.06653\n",
      "rating for user 253 for item 465 is 5 and our prediction is: 4.76511\n",
      "1.062\n",
      "rating for user 253 for item 465 is 5 and our prediction is: 4.44873\n",
      "1.34789\n",
      "rating for user 253 for item 465 is 5 and our prediction is: 4.45556\n",
      "1.34099\n",
      "rating for user 253 for item 465 is 5 and our prediction is: 4.78368\n",
      "1.04939\n",
      "rating for user 253 for item 465 is 5 and our prediction is: 4.79015\n",
      "1.04549\n",
      "rating for user 253 for item 465 is 5 and our prediction is: 4.47652\n",
      "1.32178\n",
      "rating for user 253 for item 465 is 5 and our prediction is: 4.48376\n",
      "1.31583\n",
      "rating for user 253 for item 465 is 5 and our prediction is: 4.81065\n",
      "1.03458\n",
      "rating for user 253 for item 465 is 5 and our prediction is: 4.81787\n",
      "1.03117\n",
      "rating for user 253 for item 465 is 5 and our prediction is: 4.50649\n",
      "1.29913\n",
      "rating for user 253 for item 465 is 5 and our prediction is: 4.51443\n",
      "1.29392\n",
      "rating for user 253 for item 465 is 5 and our prediction is: 4.84072\n",
      "1.0216\n",
      "rating for user 253 for item 465 is 5 and our prediction is: 4.84864\n",
      "1.0186\n",
      "rating for user 253 for item 465 is 5 and our prediction is: 4.53893\n",
      "1.27926\n",
      "rating for user 253 for item 465 is 5 and our prediction is: 4.54097\n",
      "1.28223\n",
      "rating for user 253 for item 465 is 5 and our prediction is: 4.84071\n",
      "1.01108\n",
      "rating for user 253 for item 465 is 5 and our prediction is: 4.86723\n",
      "1.00969\n",
      "rating for user 253 for item 465 is 5 and our prediction is: 4.56464\n",
      "1.26433\n",
      "rating for user 253 for item 465 is 5 and our prediction is: 4.57562\n",
      "1.26029\n",
      "rating for user 253 for item 465 is 5 and our prediction is: 4.90326\n",
      "1.00873\n",
      "rating for user 253 for item 465 is 5 and our prediction is: 4.88921\n",
      "1.00101\n",
      "rating for user 253 for item 465 is 5 and our prediction is: 4.58788\n",
      "1.24903\n",
      "rating for user 253 for item 465 is 5 and our prediction is: 4.59892\n",
      "1.24495\n",
      "rating for user 253 for item 465 is 5 and our prediction is: 4.91639\n",
      "1.00151\n",
      "rating for user 253 for item 465 is 5 and our prediction is: 4.91476\n",
      "0.989975\n",
      "rating for user 253 for item 465 is 5 and our prediction is: 4.6086\n",
      "1.23649\n",
      "rating for user 253 for item 465 is 5 and our prediction is: 4.61193\n",
      "1.23528\n",
      "rating for user 253 for item 465 is 5 and our prediction is: 4.92316\n",
      "0.986654\n",
      "rating for user 253 for item 465 is 5 and our prediction is: 4.93146\n",
      "0.984174\n",
      "rating for user 253 for item 465 is 5 and our prediction is: 4.61718\n",
      "1.23124\n",
      "rating for user 253 for item 465 is 5 and our prediction is: 4.61295\n",
      "1.22003\n",
      "rating for user 253 for item 465 is 5 and our prediction is: 4.93576\n",
      "0.979601\n",
      "rating for user 253 for item 465 is 5 and our prediction is: 4.93346\n",
      "0.988613\n",
      "rating for user 253 for item 465 is 5 and our prediction is: 4.6138\n",
      "1.21592\n",
      "rating for user 253 for item 465 is 5 and our prediction is: 4.61898\n",
      "1.21587\n",
      "rating for user 253 for item 465 is 5 and our prediction is: 4.92725\n",
      "0.970308\n",
      "rating for user 253 for item 465 is 5 and our prediction is: 4.93372\n",
      "0.972856\n",
      "rating for user 253 for item 465 is 5 and our prediction is: 4.61242\n",
      "1.21254\n",
      "rating for user 253 for item 465 is 5 and our prediction is: 4.61115\n",
      "1.20694\n",
      "rating for user 253 for item 465 is 5 and our prediction is: 4.92606\n",
      "0.975518\n",
      "rating for user 253 for item 465 is 5 and our prediction is: 4.92741\n",
      "0.968625\n",
      "rating for user 253 for item 465 is 5 and our prediction is: 4.60861\n",
      "1.21055\n",
      "rating for user 253 for item 465 is 5 and our prediction is: 4.59484\n",
      "1.19987\n",
      "rating for user 253 for item 465 is 5 and our prediction is: 4.92097\n",
      "0.973219\n"
     ]
    }
   ],
   "source": [
    "costs = []\n",
    "costs2 = []\n",
    "actual_rate = []\n",
    "predicted_rates = []\n",
    "for epochs in range(100):\n",
    "    for i in range(epochs):\n",
    "        sess.run(training_step)\n",
    "    \n",
    "    u, p, r = MovieLensData[['user', 'item', 'rate']].values[7]\n",
    "    rhat = tf.gather(tf.gather(result, u-1), p-1)\n",
    "    print( \"rating for user \" + str(u) + \" for item \" + str(p) + \n",
    "          \" is \" + str(r) + \" and our prediction is: \" + str(sess.run(rhat)))\n",
    "    actual_rate.append(r)\n",
    "    predicted_rates.append(sess.run(rhat))\n",
    "\n",
    "    df_test = MovieLensData[~train_size]\n",
    "    user_indecies_test = [x-1 for x in df_test.user.values]\n",
    "    item_indecies_test = [x-1 for x in df_test.item.values]\n",
    "    rates_test = df_test.rate.values\n",
    "    R_test = tf.gather(result_flatten, user_indecies_test * tf.shape(result)[1] + item_indecies_test, name='extracting_user_rate_test')\n",
    "    diff_op_test = tf.sub(R_test, rates_test, name='test_diff')\n",
    "    diff_op_squared_test = tf.abs(diff_op, name=\"squared_difference_test\")\n",
    "\n",
    "    cost_test = tf.div(tf.reduce_sum(tf.square(diff_op_squared_test, name=\"squared_difference_test\"), name=\"sum_squared_error_test\"), df_test.shape[0] * 2, name=\"average_error\")\n",
    "    costs.append(sess.run(cost_test))\n",
    "    cost_test2 = tf.div(tf.reduce_sum((diff_op_squared_test), name=\"sum_squared_error_test\"), df_test.shape[0] * 2, name=\"average_error\")\n",
    "    costs2.append(sess.run(cost_test2))\n",
    "    print(sess.run(cost_test))"
   ]
  },
  {
   "cell_type": "markdown",
   "metadata": {},
   "source": [
    "### Plotting Results for Evaluation"
   ]
  },
  {
   "cell_type": "code",
   "execution_count": 20,
   "metadata": {
    "collapsed": false
   },
   "outputs": [
    {
     "data": {
      "image/png": "[encoded data removed]",
      "text/plain": [
       "<matplotlib.figure.Figure at 0x1bd9ec369e8>"
      ]
     },
     "metadata": {},
     "output_type": "display_data"
    },
    {
     "data": {
      "image/png": "[encoded data removed]",
      "text/plain": [
       "<matplotlib.figure.Figure at 0x1bdc4a93978>"
      ]
     },
     "metadata": {},
     "output_type": "display_data"
    },
    {
     "data": {
      "image/png": "[encoded data removed]",
      "text/plain": [
       "<matplotlib.figure.Figure at 0x1bdc8449f60>"
      ]
     },
     "metadata": {},
     "output_type": "display_data"
    }
   ],
   "source": [
    "plt.plot(costs2)\n",
    "\n",
    "plt.xlabel(\"No. of Epochs Trained for\")\n",
    "plt.ylabel(\"Cost\")\n",
    "plt.show()\n",
    "\n",
    "plt.plot(costs)\n",
    "\n",
    "plt.xlabel(\"No. of Epochs Trained for\")\n",
    "plt.ylabel(\"Squared Cost\")\n",
    "plt.show()\n",
    "\n",
    "plt.plot(actual_rate)\n",
    "plt.plot(predicted_rates)\n",
    "\n",
    "plt.xlabel(\"No. of Epochs Trained for\")\n",
    "plt.ylabel(\"Rating Prediction\")\n",
    "plt.show()"
   ]
  }
 ],
 "metadata": {
  "anaconda-cloud": {},
  "kernelspec": {
   "display_name": "Python [conda root]",
   "language": "python",
   "name": "conda-root-py"
  },
  "language_info": {
   "codemirror_mode": {
    "name": "ipython",
    "version": 3.0
   },
   "file_extension": ".py",
   "mimetype": "text/x-python",
   "name": "python",
   "nbconvert_exporter": "python",
   "pygments_lexer": "ipython3",
   "version": "3.5.2"
  }
 },
 "nbformat": 4,
 "nbformat_minor": 0
}